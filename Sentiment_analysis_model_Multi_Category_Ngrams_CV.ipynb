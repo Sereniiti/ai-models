{
  "nbformat": 4,
  "nbformat_minor": 0,
  "metadata": {
    "colab": {
      "name": "Sentiment analysis model Multi-Category Ngrams CV.ipynb",
      "provenance": [],
      "collapsed_sections": [],
      "include_colab_link": true
    },
    "kernelspec": {
      "name": "python3",
      "display_name": "Python 3"
    },
    "language_info": {
      "name": "python"
    }
  },
  "cells": [
    {
      "cell_type": "markdown",
      "metadata": {
        "id": "view-in-github",
        "colab_type": "text"
      },
      "source": [
        "<a href=\"https://colab.research.google.com/github/Sereniiti/ai-models/blob/main/Sentiment_analysis_model_Multi_Category_Ngrams_CV.ipynb\" target=\"_parent\"><img src=\"https://colab.research.google.com/assets/colab-badge.svg\" alt=\"Open In Colab\"/></a>"
      ]
    },
    {
      "cell_type": "code",
      "metadata": {
        "id": "2O914tIA0zIp"
      },
      "source": [
        "import pandas as pd\n",
        "import numpy as np\n",
        "import seaborn as sns\n",
        "import re\n",
        "import string\n",
        "from string import punctuation\n",
        "import nltk\n",
        "from nltk.corpus import stopwords\n",
        "from tensorflow.keras.callbacks import EarlyStopping, ModelCheckpoint, TensorBoard \n",
        "import os, datetime "
      ],
      "execution_count": 1,
      "outputs": []
    },
    {
      "cell_type": "code",
      "metadata": {
        "colab": {
          "base_uri": "https://localhost:8080/"
        },
        "id": "w0UqJOuy09Bx",
        "outputId": "864810bb-6d5f-4170-b505-f730ea97f102"
      },
      "source": [
        "nltk.download (\"stopwords\")\n",
        "\n",
        "import matplotlib.pyplot as plt\n",
        "!pip install sklearn\n",
        "from sklearn.model_selection import train_test_split\n",
        "from sklearn.feature_extraction.text import CountVectorizer\n",
        "from sklearn.feature_extraction.text import TfidfTransformer\n",
        "import tensorflow as tf\n",
        "from tensorflow.keras.models import Sequential\n",
        "from tensorflow.keras.layers import Dense, Activation, Dropout\n",
        "from tensorflow.keras.callbacks import EarlyStopping"
      ],
      "execution_count": 2,
      "outputs": [
        {
          "output_type": "stream",
          "name": "stdout",
          "text": [
            "[nltk_data] Downloading package stopwords to /root/nltk_data...\n",
            "[nltk_data]   Unzipping corpora/stopwords.zip.\n",
            "Requirement already satisfied: sklearn in /usr/local/lib/python3.7/dist-packages (0.0)\n",
            "Requirement already satisfied: scikit-learn in /usr/local/lib/python3.7/dist-packages (from sklearn) (0.22.2.post1)\n",
            "Requirement already satisfied: scipy>=0.17.0 in /usr/local/lib/python3.7/dist-packages (from scikit-learn->sklearn) (1.4.1)\n",
            "Requirement already satisfied: joblib>=0.11 in /usr/local/lib/python3.7/dist-packages (from scikit-learn->sklearn) (1.0.1)\n",
            "Requirement already satisfied: numpy>=1.11.0 in /usr/local/lib/python3.7/dist-packages (from scikit-learn->sklearn) (1.19.5)\n"
          ]
        }
      ]
    },
    {
      "cell_type": "code",
      "metadata": {
        "id": "QJdFT1Cg2V6_",
        "colab": {
          "base_uri": "https://localhost:8080/"
        },
        "outputId": "d10bd8e1-aae6-4012-d303-c24d0db17467"
      },
      "source": [
        "from google.colab import drive\n",
        "drive.mount('/content/drive')\n"
      ],
      "execution_count": 3,
      "outputs": [
        {
          "output_type": "stream",
          "name": "stdout",
          "text": [
            "Mounted at /content/drive\n"
          ]
        }
      ]
    },
    {
      "cell_type": "code",
      "metadata": {
        "colab": {
          "base_uri": "https://localhost:8080/",
          "height": 204
        },
        "id": "gcjIiouB2m98",
        "outputId": "a9a2d7f7-7426-4c76-bcea-f65254e79592"
      },
      "source": [
        "df = pd.read_csv('/content/drive/MyDrive/Training data (sentences) - Dataset.csv')\n",
        "df.head ()"
      ],
      "execution_count": 4,
      "outputs": [
        {
          "output_type": "execute_result",
          "data": {
            "text/html": [
              "<div>\n",
              "<style scoped>\n",
              "    .dataframe tbody tr th:only-of-type {\n",
              "        vertical-align: middle;\n",
              "    }\n",
              "\n",
              "    .dataframe tbody tr th {\n",
              "        vertical-align: top;\n",
              "    }\n",
              "\n",
              "    .dataframe thead th {\n",
              "        text-align: right;\n",
              "    }\n",
              "</style>\n",
              "<table border=\"1\" class=\"dataframe\">\n",
              "  <thead>\n",
              "    <tr style=\"text-align: right;\">\n",
              "      <th></th>\n",
              "      <th>en</th>\n",
              "      <th>fr</th>\n",
              "      <th>rating</th>\n",
              "      <th>Step</th>\n",
              "      <th>Tips in the steps (WIP)</th>\n",
              "      <th>Alert</th>\n",
              "      <th>Comment</th>\n",
              "    </tr>\n",
              "  </thead>\n",
              "  <tbody>\n",
              "    <tr>\n",
              "      <th>0</th>\n",
              "      <td>A 2014 study examined the effects of combined ...</td>\n",
              "      <td>Une étude de 2014 a examiné les effets d'une f...</td>\n",
              "      <td>4</td>\n",
              "      <td>facts</td>\n",
              "      <td>factual</td>\n",
              "      <td>NaN</td>\n",
              "      <td>NaN</td>\n",
              "    </tr>\n",
              "    <tr>\n",
              "      <th>1</th>\n",
              "      <td>Boys don't cry</td>\n",
              "      <td>Un grand garçon ne pleure pas</td>\n",
              "      <td>2</td>\n",
              "      <td>facts</td>\n",
              "      <td>judgement, generalization, label</td>\n",
              "      <td>NaN</td>\n",
              "      <td>NaN</td>\n",
              "    </tr>\n",
              "    <tr>\n",
              "      <th>2</th>\n",
              "      <td>A cheetah, the fastest land animal, can run 70...</td>\n",
              "      <td>Un guépard, l'animal terrestre le plus rapide,...</td>\n",
              "      <td>4</td>\n",
              "      <td>facts</td>\n",
              "      <td>factual</td>\n",
              "      <td>NaN</td>\n",
              "      <td>NaN</td>\n",
              "    </tr>\n",
              "    <tr>\n",
              "      <th>3</th>\n",
              "      <td>A combination of words that makes sense is cal...</td>\n",
              "      <td>Une combinaison de mots qui a un sens complet ...</td>\n",
              "      <td>4</td>\n",
              "      <td>facts</td>\n",
              "      <td>factual</td>\n",
              "      <td>NaN</td>\n",
              "      <td>NaN</td>\n",
              "    </tr>\n",
              "    <tr>\n",
              "      <th>4</th>\n",
              "      <td>A door would have more charisma than you</td>\n",
              "      <td>Une porte aurait plus de charisme que toi</td>\n",
              "      <td>0</td>\n",
              "      <td>facts</td>\n",
              "      <td>judgement, generalization, label</td>\n",
              "      <td>NaN</td>\n",
              "      <td>NaN</td>\n",
              "    </tr>\n",
              "  </tbody>\n",
              "</table>\n",
              "</div>"
            ],
            "text/plain": [
              "                                                  en  ... Comment\n",
              "0  A 2014 study examined the effects of combined ...  ...     NaN\n",
              "1                                     Boys don't cry  ...     NaN\n",
              "2  A cheetah, the fastest land animal, can run 70...  ...     NaN\n",
              "3  A combination of words that makes sense is cal...  ...     NaN\n",
              "4           A door would have more charisma than you  ...     NaN\n",
              "\n",
              "[5 rows x 7 columns]"
            ]
          },
          "metadata": {},
          "execution_count": 4
        }
      ]
    },
    {
      "cell_type": "code",
      "metadata": {
        "id": "9PpJix9I-ElJ"
      },
      "source": [
        "df=df.drop(['fr', 'Step', 'Tips in the steps (WIP)', 'Alert', 'Comment',],axis=1)\n",
        "df.dropna(inplace=True)"
      ],
      "execution_count": 5,
      "outputs": []
    },
    {
      "cell_type": "code",
      "metadata": {
        "id": "k9y3vdWVBUee",
        "colab": {
          "base_uri": "https://localhost:8080/",
          "height": 419
        },
        "outputId": "9e21fb4b-3c73-4f06-fd29-8c6ff4a32d10"
      },
      "source": [
        "df"
      ],
      "execution_count": 6,
      "outputs": [
        {
          "output_type": "execute_result",
          "data": {
            "text/html": [
              "<div>\n",
              "<style scoped>\n",
              "    .dataframe tbody tr th:only-of-type {\n",
              "        vertical-align: middle;\n",
              "    }\n",
              "\n",
              "    .dataframe tbody tr th {\n",
              "        vertical-align: top;\n",
              "    }\n",
              "\n",
              "    .dataframe thead th {\n",
              "        text-align: right;\n",
              "    }\n",
              "</style>\n",
              "<table border=\"1\" class=\"dataframe\">\n",
              "  <thead>\n",
              "    <tr style=\"text-align: right;\">\n",
              "      <th></th>\n",
              "      <th>en</th>\n",
              "      <th>rating</th>\n",
              "    </tr>\n",
              "  </thead>\n",
              "  <tbody>\n",
              "    <tr>\n",
              "      <th>0</th>\n",
              "      <td>A 2014 study examined the effects of combined ...</td>\n",
              "      <td>4</td>\n",
              "    </tr>\n",
              "    <tr>\n",
              "      <th>1</th>\n",
              "      <td>Boys don't cry</td>\n",
              "      <td>2</td>\n",
              "    </tr>\n",
              "    <tr>\n",
              "      <th>2</th>\n",
              "      <td>A cheetah, the fastest land animal, can run 70...</td>\n",
              "      <td>4</td>\n",
              "    </tr>\n",
              "    <tr>\n",
              "      <th>3</th>\n",
              "      <td>A combination of words that makes sense is cal...</td>\n",
              "      <td>4</td>\n",
              "    </tr>\n",
              "    <tr>\n",
              "      <th>4</th>\n",
              "      <td>A door would have more charisma than you</td>\n",
              "      <td>0</td>\n",
              "    </tr>\n",
              "    <tr>\n",
              "      <th>...</th>\n",
              "      <td>...</td>\n",
              "      <td>...</td>\n",
              "    </tr>\n",
              "    <tr>\n",
              "      <th>10988</th>\n",
              "      <td>it was violent and gratuitous it was mean</td>\n",
              "      <td>1</td>\n",
              "    </tr>\n",
              "    <tr>\n",
              "      <th>10989</th>\n",
              "      <td>You say that but I assure you that in normal c...</td>\n",
              "      <td>1</td>\n",
              "    </tr>\n",
              "    <tr>\n",
              "      <th>10990</th>\n",
              "      <td>You really went too far</td>\n",
              "      <td>1</td>\n",
              "    </tr>\n",
              "    <tr>\n",
              "      <th>10991</th>\n",
              "      <td>It was mean</td>\n",
              "      <td>1</td>\n",
              "    </tr>\n",
              "    <tr>\n",
              "      <th>10992</th>\n",
              "      <td>you lie like most people breathe</td>\n",
              "      <td>1</td>\n",
              "    </tr>\n",
              "  </tbody>\n",
              "</table>\n",
              "<p>10993 rows × 2 columns</p>\n",
              "</div>"
            ],
            "text/plain": [
              "                                                      en  rating\n",
              "0      A 2014 study examined the effects of combined ...       4\n",
              "1                                         Boys don't cry       2\n",
              "2      A cheetah, the fastest land animal, can run 70...       4\n",
              "3      A combination of words that makes sense is cal...       4\n",
              "4               A door would have more charisma than you       0\n",
              "...                                                  ...     ...\n",
              "10988          it was violent and gratuitous it was mean       1\n",
              "10989  You say that but I assure you that in normal c...       1\n",
              "10990                            You really went too far       1\n",
              "10991                                        It was mean       1\n",
              "10992                   you lie like most people breathe       1\n",
              "\n",
              "[10993 rows x 2 columns]"
            ]
          },
          "metadata": {},
          "execution_count": 6
        }
      ]
    },
    {
      "cell_type": "code",
      "metadata": {
        "id": "6dhbEMS-BwE1"
      },
      "source": [
        "df ['Violence_Rating']=df ['rating'].apply(lambda x: 'Non_violent' if x > 4 else ('Neutral' if x ==4 else 'Violent'))"
      ],
      "execution_count": 7,
      "outputs": []
    },
    {
      "cell_type": "code",
      "metadata": {
        "id": "COnIUeqLC3ab",
        "colab": {
          "base_uri": "https://localhost:8080/",
          "height": 299
        },
        "outputId": "74ac4adb-606b-4cd7-b014-e1618947ec80"
      },
      "source": [
        "sns.set_style ('whitegrid')\n",
        "sns.countplot (x='Violence_Rating', data=df, palette='summer')"
      ],
      "execution_count": 8,
      "outputs": [
        {
          "output_type": "execute_result",
          "data": {
            "text/plain": [
              "<matplotlib.axes._subplots.AxesSubplot at 0x7f17c6240750>"
            ]
          },
          "metadata": {},
          "execution_count": 8
        },
        {
          "output_type": "display_data",
          "data": {
            "image/png": "[encoded data removed]",
            "text/plain": [
              "<Figure size 432x288 with 1 Axes>"
            ]
          },
          "metadata": {}
        }
      ]
    },
    {
      "cell_type": "code",
      "metadata": {
        "id": "Nk373xDlIcn_"
      },
      "source": [
        "def get_text_processing(text):\n",
        "    stpword = ['the','a', 'an']\n",
        "    no_punctuation = [char for char in text if char not in string.punctuation]\n",
        "    no_punctuation = ''.join(no_punctuation)\n",
        "    return ' '.join([word for word in no_punctuation.split() if word.lower() not in stpword])"
      ],
      "execution_count": 9,
      "outputs": []
    },
    {
      "cell_type": "code",
      "metadata": {
        "colab": {
          "base_uri": "https://localhost:8080/",
          "height": 204
        },
        "id": "NDZegmuiJM4r",
        "outputId": "708fd2c0-afb8-4079-d29a-f6dcf60b26f1"
      },
      "source": [
        "df['en_processed'] = df['en'].apply(get_text_processing)\n",
        "df.head()"
      ],
      "execution_count": 10,
      "outputs": [
        {
          "output_type": "execute_result",
          "data": {
            "text/html": [
              "<div>\n",
              "<style scoped>\n",
              "    .dataframe tbody tr th:only-of-type {\n",
              "        vertical-align: middle;\n",
              "    }\n",
              "\n",
              "    .dataframe tbody tr th {\n",
              "        vertical-align: top;\n",
              "    }\n",
              "\n",
              "    .dataframe thead th {\n",
              "        text-align: right;\n",
              "    }\n",
              "</style>\n",
              "<table border=\"1\" class=\"dataframe\">\n",
              "  <thead>\n",
              "    <tr style=\"text-align: right;\">\n",
              "      <th></th>\n",
              "      <th>en</th>\n",
              "      <th>rating</th>\n",
              "      <th>Violence_Rating</th>\n",
              "      <th>en_processed</th>\n",
              "    </tr>\n",
              "  </thead>\n",
              "  <tbody>\n",
              "    <tr>\n",
              "      <th>0</th>\n",
              "      <td>A 2014 study examined the effects of combined ...</td>\n",
              "      <td>4</td>\n",
              "      <td>Neutral</td>\n",
              "      <td>2014 study examined effects of combined NVC an...</td>\n",
              "    </tr>\n",
              "    <tr>\n",
              "      <th>1</th>\n",
              "      <td>Boys don't cry</td>\n",
              "      <td>2</td>\n",
              "      <td>Violent</td>\n",
              "      <td>Boys dont cry</td>\n",
              "    </tr>\n",
              "    <tr>\n",
              "      <th>2</th>\n",
              "      <td>A cheetah, the fastest land animal, can run 70...</td>\n",
              "      <td>4</td>\n",
              "      <td>Neutral</td>\n",
              "      <td>cheetah fastest land animal can run 70 miles hour</td>\n",
              "    </tr>\n",
              "    <tr>\n",
              "      <th>3</th>\n",
              "      <td>A combination of words that makes sense is cal...</td>\n",
              "      <td>4</td>\n",
              "      <td>Neutral</td>\n",
              "      <td>combination of words that makes sense is calle...</td>\n",
              "    </tr>\n",
              "    <tr>\n",
              "      <th>4</th>\n",
              "      <td>A door would have more charisma than you</td>\n",
              "      <td>0</td>\n",
              "      <td>Violent</td>\n",
              "      <td>door would have more charisma than you</td>\n",
              "    </tr>\n",
              "  </tbody>\n",
              "</table>\n",
              "</div>"
            ],
            "text/plain": [
              "                                                  en  ...                                       en_processed\n",
              "0  A 2014 study examined the effects of combined ...  ...  2014 study examined effects of combined NVC an...\n",
              "1                                     Boys don't cry  ...                                      Boys dont cry\n",
              "2  A cheetah, the fastest land animal, can run 70...  ...  cheetah fastest land animal can run 70 miles hour\n",
              "3  A combination of words that makes sense is cal...  ...  combination of words that makes sense is calle...\n",
              "4           A door would have more charisma than you  ...             door would have more charisma than you\n",
              "\n",
              "[5 rows x 4 columns]"
            ]
          },
          "metadata": {},
          "execution_count": 10
        }
      ]
    },
    {
      "cell_type": "code",
      "metadata": {
        "colab": {
          "base_uri": "https://localhost:8080/",
          "height": 204
        },
        "id": "demDYAIQOvq1",
        "outputId": "e5772099-dae8-4961-98e6-c62de7f11dbe"
      },
      "source": [
        "df = df[['en_processed', 'Violence_Rating']]\n",
        "df.head()"
      ],
      "execution_count": 11,
      "outputs": [
        {
          "output_type": "execute_result",
          "data": {
            "text/html": [
              "<div>\n",
              "<style scoped>\n",
              "    .dataframe tbody tr th:only-of-type {\n",
              "        vertical-align: middle;\n",
              "    }\n",
              "\n",
              "    .dataframe tbody tr th {\n",
              "        vertical-align: top;\n",
              "    }\n",
              "\n",
              "    .dataframe thead th {\n",
              "        text-align: right;\n",
              "    }\n",
              "</style>\n",
              "<table border=\"1\" class=\"dataframe\">\n",
              "  <thead>\n",
              "    <tr style=\"text-align: right;\">\n",
              "      <th></th>\n",
              "      <th>en_processed</th>\n",
              "      <th>Violence_Rating</th>\n",
              "    </tr>\n",
              "  </thead>\n",
              "  <tbody>\n",
              "    <tr>\n",
              "      <th>0</th>\n",
              "      <td>2014 study examined effects of combined NVC an...</td>\n",
              "      <td>Neutral</td>\n",
              "    </tr>\n",
              "    <tr>\n",
              "      <th>1</th>\n",
              "      <td>Boys dont cry</td>\n",
              "      <td>Violent</td>\n",
              "    </tr>\n",
              "    <tr>\n",
              "      <th>2</th>\n",
              "      <td>cheetah fastest land animal can run 70 miles hour</td>\n",
              "      <td>Neutral</td>\n",
              "    </tr>\n",
              "    <tr>\n",
              "      <th>3</th>\n",
              "      <td>combination of words that makes sense is calle...</td>\n",
              "      <td>Neutral</td>\n",
              "    </tr>\n",
              "    <tr>\n",
              "      <th>4</th>\n",
              "      <td>door would have more charisma than you</td>\n",
              "      <td>Violent</td>\n",
              "    </tr>\n",
              "  </tbody>\n",
              "</table>\n",
              "</div>"
            ],
            "text/plain": [
              "                                        en_processed Violence_Rating\n",
              "0  2014 study examined effects of combined NVC an...         Neutral\n",
              "1                                      Boys dont cry         Violent\n",
              "2  cheetah fastest land animal can run 70 miles hour         Neutral\n",
              "3  combination of words that makes sense is calle...         Neutral\n",
              "4             door would have more charisma than you         Violent"
            ]
          },
          "metadata": {},
          "execution_count": 11
        }
      ]
    },
    {
      "cell_type": "code",
      "metadata": {
        "colab": {
          "base_uri": "https://localhost:8080/",
          "height": 504
        },
        "id": "bKXN7mRaPBRe",
        "outputId": "359f6429-2484-450f-8195-fab46047d18e"
      },
      "source": [
        "one_hot = pd.get_dummies(df[\"Violence_Rating\"])\n",
        "df.drop([\"Violence_Rating\"], axis=1, inplace=True)\n",
        "df = pd.concat([df, one_hot], axis=1)\n",
        "\n",
        "dft = df.sample (n=10000, random_state=100)\n",
        "dfr = df.drop (dft.index)\n",
        "dfr"
      ],
      "execution_count": 12,
      "outputs": [
        {
          "output_type": "stream",
          "name": "stderr",
          "text": [
            "/usr/local/lib/python3.7/dist-packages/pandas/core/frame.py:4174: SettingWithCopyWarning: \n",
            "A value is trying to be set on a copy of a slice from a DataFrame\n",
            "\n",
            "See the caveats in the documentation: https://pandas.pydata.org/pandas-docs/stable/user_guide/indexing.html#returning-a-view-versus-a-copy\n",
            "  errors=errors,\n"
          ]
        },
        {
          "output_type": "execute_result",
          "data": {
            "text/html": [
              "<div>\n",
              "<style scoped>\n",
              "    .dataframe tbody tr th:only-of-type {\n",
              "        vertical-align: middle;\n",
              "    }\n",
              "\n",
              "    .dataframe tbody tr th {\n",
              "        vertical-align: top;\n",
              "    }\n",
              "\n",
              "    .dataframe thead th {\n",
              "        text-align: right;\n",
              "    }\n",
              "</style>\n",
              "<table border=\"1\" class=\"dataframe\">\n",
              "  <thead>\n",
              "    <tr style=\"text-align: right;\">\n",
              "      <th></th>\n",
              "      <th>en_processed</th>\n",
              "      <th>Neutral</th>\n",
              "      <th>Non_violent</th>\n",
              "      <th>Violent</th>\n",
              "    </tr>\n",
              "  </thead>\n",
              "  <tbody>\n",
              "    <tr>\n",
              "      <th>2</th>\n",
              "      <td>cheetah fastest land animal can run 70 miles hour</td>\n",
              "      <td>1</td>\n",
              "      <td>0</td>\n",
              "      <td>0</td>\n",
              "    </tr>\n",
              "    <tr>\n",
              "      <th>6</th>\n",
              "      <td>group of words which makes complete sense is c...</td>\n",
              "      <td>1</td>\n",
              "      <td>0</td>\n",
              "      <td>0</td>\n",
              "    </tr>\n",
              "    <tr>\n",
              "      <th>7</th>\n",
              "      <td>little hello and kiss from our son</td>\n",
              "      <td>1</td>\n",
              "      <td>0</td>\n",
              "      <td>0</td>\n",
              "    </tr>\n",
              "    <tr>\n",
              "      <th>18</th>\n",
              "      <td>According to this article volcanoes in Auvergn...</td>\n",
              "      <td>1</td>\n",
              "      <td>0</td>\n",
              "      <td>0</td>\n",
              "    </tr>\n",
              "    <tr>\n",
              "      <th>32</th>\n",
              "      <td>After long hot night we spent together I feel ...</td>\n",
              "      <td>1</td>\n",
              "      <td>0</td>\n",
              "      <td>0</td>\n",
              "    </tr>\n",
              "    <tr>\n",
              "      <th>...</th>\n",
              "      <td>...</td>\n",
              "      <td>...</td>\n",
              "      <td>...</td>\n",
              "      <td>...</td>\n",
              "    </tr>\n",
              "    <tr>\n",
              "      <th>10863</th>\n",
              "      <td>I am only doing this for you</td>\n",
              "      <td>0</td>\n",
              "      <td>0</td>\n",
              "      <td>1</td>\n",
              "    </tr>\n",
              "    <tr>\n",
              "      <th>10897</th>\n",
              "      <td>You should go out more</td>\n",
              "      <td>0</td>\n",
              "      <td>0</td>\n",
              "      <td>1</td>\n",
              "    </tr>\n",
              "    <tr>\n",
              "      <th>10917</th>\n",
              "      <td>You think you dont need anyone but in fact you...</td>\n",
              "      <td>0</td>\n",
              "      <td>0</td>\n",
              "      <td>1</td>\n",
              "    </tr>\n",
              "    <tr>\n",
              "      <th>10963</th>\n",
              "      <td>I love you as big as truck</td>\n",
              "      <td>1</td>\n",
              "      <td>0</td>\n",
              "      <td>0</td>\n",
              "    </tr>\n",
              "    <tr>\n",
              "      <th>10983</th>\n",
              "      <td>Wow youre really annoying</td>\n",
              "      <td>0</td>\n",
              "      <td>0</td>\n",
              "      <td>1</td>\n",
              "    </tr>\n",
              "  </tbody>\n",
              "</table>\n",
              "<p>993 rows × 4 columns</p>\n",
              "</div>"
            ],
            "text/plain": [
              "                                            en_processed  ...  Violent\n",
              "2      cheetah fastest land animal can run 70 miles hour  ...        0\n",
              "6      group of words which makes complete sense is c...  ...        0\n",
              "7                     little hello and kiss from our son  ...        0\n",
              "18     According to this article volcanoes in Auvergn...  ...        0\n",
              "32     After long hot night we spent together I feel ...  ...        0\n",
              "...                                                  ...  ...      ...\n",
              "10863                       I am only doing this for you  ...        1\n",
              "10897                             You should go out more  ...        1\n",
              "10917  You think you dont need anyone but in fact you...  ...        1\n",
              "10963                         I love you as big as truck  ...        0\n",
              "10983                          Wow youre really annoying  ...        1\n",
              "\n",
              "[993 rows x 4 columns]"
            ]
          },
          "metadata": {},
          "execution_count": 12
        }
      ]
    },
    {
      "cell_type": "code",
      "metadata": {
        "colab": {
          "base_uri": "https://localhost:8080/",
          "height": 419
        },
        "id": "jvk6wJsuwGqv",
        "outputId": "2a973e11-5eec-4766-bfb7-aa8fe009e646"
      },
      "source": [
        "dft"
      ],
      "execution_count": 13,
      "outputs": [
        {
          "output_type": "execute_result",
          "data": {
            "text/html": [
              "<div>\n",
              "<style scoped>\n",
              "    .dataframe tbody tr th:only-of-type {\n",
              "        vertical-align: middle;\n",
              "    }\n",
              "\n",
              "    .dataframe tbody tr th {\n",
              "        vertical-align: top;\n",
              "    }\n",
              "\n",
              "    .dataframe thead th {\n",
              "        text-align: right;\n",
              "    }\n",
              "</style>\n",
              "<table border=\"1\" class=\"dataframe\">\n",
              "  <thead>\n",
              "    <tr style=\"text-align: right;\">\n",
              "      <th></th>\n",
              "      <th>en_processed</th>\n",
              "      <th>Neutral</th>\n",
              "      <th>Non_violent</th>\n",
              "      <th>Violent</th>\n",
              "    </tr>\n",
              "  </thead>\n",
              "  <tbody>\n",
              "    <tr>\n",
              "      <th>3305</th>\n",
              "      <td>Im good at English grammar</td>\n",
              "      <td>1</td>\n",
              "      <td>0</td>\n",
              "      <td>0</td>\n",
              "    </tr>\n",
              "    <tr>\n",
              "      <th>5410</th>\n",
              "      <td>We have received confirmation that this attack...</td>\n",
              "      <td>1</td>\n",
              "      <td>0</td>\n",
              "      <td>0</td>\n",
              "    </tr>\n",
              "    <tr>\n",
              "      <th>7475</th>\n",
              "      <td>You think youre alone in world</td>\n",
              "      <td>0</td>\n",
              "      <td>0</td>\n",
              "      <td>1</td>\n",
              "    </tr>\n",
              "    <tr>\n",
              "      <th>4573</th>\n",
              "      <td>Now that I know that I am selected I feel much...</td>\n",
              "      <td>1</td>\n",
              "      <td>0</td>\n",
              "      <td>0</td>\n",
              "    </tr>\n",
              "    <tr>\n",
              "      <th>1139</th>\n",
              "      <td>He thinks hes only one with something interest...</td>\n",
              "      <td>0</td>\n",
              "      <td>0</td>\n",
              "      <td>1</td>\n",
              "    </tr>\n",
              "    <tr>\n",
              "      <th>...</th>\n",
              "      <td>...</td>\n",
              "      <td>...</td>\n",
              "      <td>...</td>\n",
              "      <td>...</td>\n",
              "    </tr>\n",
              "    <tr>\n",
              "      <th>2502</th>\n",
              "      <td>I love you much more than you love me</td>\n",
              "      <td>0</td>\n",
              "      <td>0</td>\n",
              "      <td>1</td>\n",
              "    </tr>\n",
              "    <tr>\n",
              "      <th>6304</th>\n",
              "      <td>You are not good husband</td>\n",
              "      <td>0</td>\n",
              "      <td>0</td>\n",
              "      <td>1</td>\n",
              "    </tr>\n",
              "    <tr>\n",
              "      <th>3733</th>\n",
              "      <td>Im really unhappy with my life</td>\n",
              "      <td>1</td>\n",
              "      <td>0</td>\n",
              "      <td>0</td>\n",
              "    </tr>\n",
              "    <tr>\n",
              "      <th>3178</th>\n",
              "      <td>Im feeling very tired</td>\n",
              "      <td>1</td>\n",
              "      <td>0</td>\n",
              "      <td>0</td>\n",
              "    </tr>\n",
              "    <tr>\n",
              "      <th>6097</th>\n",
              "      <td>You are little street rat</td>\n",
              "      <td>0</td>\n",
              "      <td>0</td>\n",
              "      <td>1</td>\n",
              "    </tr>\n",
              "  </tbody>\n",
              "</table>\n",
              "<p>10000 rows × 4 columns</p>\n",
              "</div>"
            ],
            "text/plain": [
              "                                           en_processed  ...  Violent\n",
              "3305                         Im good at English grammar  ...        0\n",
              "5410  We have received confirmation that this attack...  ...        0\n",
              "7475                     You think youre alone in world  ...        1\n",
              "4573  Now that I know that I am selected I feel much...  ...        0\n",
              "1139  He thinks hes only one with something interest...  ...        1\n",
              "...                                                 ...  ...      ...\n",
              "2502              I love you much more than you love me  ...        1\n",
              "6304                           You are not good husband  ...        1\n",
              "3733                     Im really unhappy with my life  ...        0\n",
              "3178                              Im feeling very tired  ...        0\n",
              "6097                          You are little street rat  ...        1\n",
              "\n",
              "[10000 rows x 4 columns]"
            ]
          },
          "metadata": {},
          "execution_count": 13
        }
      ]
    },
    {
      "cell_type": "code",
      "metadata": {
        "id": "D7p0_qbBori-"
      },
      "source": [
        "X1 = dft[\"en_processed\"].values\n",
        "X2= dfr[\"en_processed\"].values\n",
        "X3= dfr[\"en_processed\"].values\n",
        "Y1= dft.drop(\"en_processed\", axis=1).values\n",
        "Y2= dfr.drop(\"en_processed\", axis=1).values\n",
        "X1_train, X1_test, Y1_train, Y1_test=train_test_split(X1,Y1, test_size=0.30, random_state=42)\n"
      ],
      "execution_count": 14,
      "outputs": []
    },
    {
      "cell_type": "code",
      "metadata": {
        "colab": {
          "base_uri": "https://localhost:8080/",
          "height": 419
        },
        "id": "lrg50zP4b-iA",
        "outputId": "7f5ced19-a9cc-420e-e217-93e4e34509a3"
      },
      "source": [
        "dfffff = pd.DataFrame (X3)\n",
        "dfffff"
      ],
      "execution_count": 15,
      "outputs": [
        {
          "output_type": "execute_result",
          "data": {
            "text/html": [
              "<div>\n",
              "<style scoped>\n",
              "    .dataframe tbody tr th:only-of-type {\n",
              "        vertical-align: middle;\n",
              "    }\n",
              "\n",
              "    .dataframe tbody tr th {\n",
              "        vertical-align: top;\n",
              "    }\n",
              "\n",
              "    .dataframe thead th {\n",
              "        text-align: right;\n",
              "    }\n",
              "</style>\n",
              "<table border=\"1\" class=\"dataframe\">\n",
              "  <thead>\n",
              "    <tr style=\"text-align: right;\">\n",
              "      <th></th>\n",
              "      <th>0</th>\n",
              "    </tr>\n",
              "  </thead>\n",
              "  <tbody>\n",
              "    <tr>\n",
              "      <th>0</th>\n",
              "      <td>cheetah fastest land animal can run 70 miles hour</td>\n",
              "    </tr>\n",
              "    <tr>\n",
              "      <th>1</th>\n",
              "      <td>group of words which makes complete sense is c...</td>\n",
              "    </tr>\n",
              "    <tr>\n",
              "      <th>2</th>\n",
              "      <td>little hello and kiss from our son</td>\n",
              "    </tr>\n",
              "    <tr>\n",
              "      <th>3</th>\n",
              "      <td>According to this article volcanoes in Auvergn...</td>\n",
              "    </tr>\n",
              "    <tr>\n",
              "      <th>4</th>\n",
              "      <td>After long hot night we spent together I feel ...</td>\n",
              "    </tr>\n",
              "    <tr>\n",
              "      <th>...</th>\n",
              "      <td>...</td>\n",
              "    </tr>\n",
              "    <tr>\n",
              "      <th>988</th>\n",
              "      <td>I am only doing this for you</td>\n",
              "    </tr>\n",
              "    <tr>\n",
              "      <th>989</th>\n",
              "      <td>You should go out more</td>\n",
              "    </tr>\n",
              "    <tr>\n",
              "      <th>990</th>\n",
              "      <td>You think you dont need anyone but in fact you...</td>\n",
              "    </tr>\n",
              "    <tr>\n",
              "      <th>991</th>\n",
              "      <td>I love you as big as truck</td>\n",
              "    </tr>\n",
              "    <tr>\n",
              "      <th>992</th>\n",
              "      <td>Wow youre really annoying</td>\n",
              "    </tr>\n",
              "  </tbody>\n",
              "</table>\n",
              "<p>993 rows × 1 columns</p>\n",
              "</div>"
            ],
            "text/plain": [
              "                                                     0\n",
              "0    cheetah fastest land animal can run 70 miles hour\n",
              "1    group of words which makes complete sense is c...\n",
              "2                   little hello and kiss from our son\n",
              "3    According to this article volcanoes in Auvergn...\n",
              "4    After long hot night we spent together I feel ...\n",
              "..                                                 ...\n",
              "988                       I am only doing this for you\n",
              "989                             You should go out more\n",
              "990  You think you dont need anyone but in fact you...\n",
              "991                         I love you as big as truck\n",
              "992                          Wow youre really annoying\n",
              "\n",
              "[993 rows x 1 columns]"
            ]
          },
          "metadata": {},
          "execution_count": 15
        }
      ]
    },
    {
      "cell_type": "code",
      "metadata": {
        "id": "n3FPr4QWphsJ",
        "colab": {
          "base_uri": "https://localhost:8080/"
        },
        "outputId": "5f1068ea-3cb2-4e32-e095-a63630da1452"
      },
      "source": [
        "vect = CountVectorizer(analyzer='word', ngram_range=(1, 3))\n",
        "X1_train = vect.fit_transform (X1_train)\n",
        "X1_test = vect.transform(X1_test)\n",
        "X2= vect.transform(X2)\n",
        "X2"
      ],
      "execution_count": 16,
      "outputs": [
        {
          "output_type": "execute_result",
          "data": {
            "text/plain": [
              "<993x58405 sparse matrix of type '<class 'numpy.int64'>'\n",
              "\twith 11944 stored elements in Compressed Sparse Row format>"
            ]
          },
          "metadata": {},
          "execution_count": 16
        }
      ]
    },
    {
      "cell_type": "code",
      "metadata": {
        "id": "N9xrK2xOAYIj"
      },
      "source": [
        "tfidf = TfidfTransformer()\n",
        "X1_train = tfidf.fit_transform(X1_train)\n",
        "X1_test = tfidf.transform(X1_test)\n",
        "X1_train = X1_train.toarray()\n",
        "X1_test = X1_test.toarray()\n",
        "X2= tfidf.fit_transform (X2)\n",
        "X2= X2.toarray ()"
      ],
      "execution_count": 17,
      "outputs": []
    },
    {
      "cell_type": "code",
      "metadata": {
        "id": "hN1otNno705F"
      },
      "source": [
        "model = Sequential()\n",
        "model.add(Dense(units=20, activation=\"relu\"))\n",
        "model.add(Dropout(0.5))\n",
        "model.add(Dense(units=20, activation=\"relu\"))\n",
        "model.add(Dropout(0.5))\n",
        "model.add(Dense(units=20, activation=\"relu\"))\n",
        "model.add(Dropout(0.5))\n",
        "model.add(Dense(units=3, activation=\"softmax\"))\n",
        "opt = tf.keras.optimizers.Adam(learning_rate=0.001)\n",
        "model.compile(loss=\"categorical_crossentropy\", optimizer='adam', metrics=[\"accuracy\"])\n",
        "early_stop = EarlyStopping(monitor=\"val_loss\", mode=\"min\", verbose=1, patience=2)"
      ],
      "execution_count": 18,
      "outputs": []
    },
    {
      "cell_type": "code",
      "metadata": {
        "colab": {
          "base_uri": "https://localhost:8080/"
        },
        "id": "kTYufFMDNIlu",
        "outputId": "ea734a5f-fef9-4c1d-ffdc-a391120a9747"
      },
      "source": [
        "early_stopping = EarlyStopping(monitor='val_loss', patience=5) #which quantity to monitor to decide early stopping \n",
        "\n",
        "logdir = os.path.join(\"logs\", datetime.datetime.now().strftime(\"%Y%m%d-%H%M%S\")) \n",
        "\n",
        "callbacks = [early_stopping, ModelCheckpoint(filepath='best_model.h5', monitor='val_loss', save_best_only=True), \n",
        "TensorBoard(logdir, histogram_freq=1)] \n",
        "\n",
        "history = model.fit( \n",
        "X1_train, \n",
        "Y1_train, \n",
        "epochs=200, \n",
        "validation_split=0.25, \n",
        "batch_size=40, \n",
        "verbose=2, \n",
        "callbacks=[callbacks] \n",
        ")"
      ],
      "execution_count": 19,
      "outputs": [
        {
          "output_type": "stream",
          "name": "stdout",
          "text": [
            "Epoch 1/200\n",
            "132/132 - 4s - loss: 0.9913 - accuracy: 0.5135 - val_loss: 0.9135 - val_accuracy: 0.5126\n",
            "Epoch 2/200\n",
            "132/132 - 3s - loss: 0.8229 - accuracy: 0.6070 - val_loss: 0.6902 - val_accuracy: 0.7617\n",
            "Epoch 3/200\n",
            "132/132 - 3s - loss: 0.5655 - accuracy: 0.8080 - val_loss: 0.5315 - val_accuracy: 0.7926\n",
            "Epoch 4/200\n",
            "132/132 - 3s - loss: 0.4010 - accuracy: 0.8634 - val_loss: 0.4978 - val_accuracy: 0.7989\n",
            "Epoch 5/200\n",
            "132/132 - 3s - loss: 0.2986 - accuracy: 0.8853 - val_loss: 0.5062 - val_accuracy: 0.7960\n",
            "Epoch 6/200\n",
            "132/132 - 3s - loss: 0.2545 - accuracy: 0.8930 - val_loss: 0.5070 - val_accuracy: 0.8011\n",
            "Epoch 7/200\n",
            "132/132 - 3s - loss: 0.2122 - accuracy: 0.9061 - val_loss: 0.5307 - val_accuracy: 0.8131\n",
            "Epoch 8/200\n",
            "132/132 - 3s - loss: 0.1935 - accuracy: 0.9185 - val_loss: 0.5536 - val_accuracy: 0.8354\n",
            "Epoch 9/200\n",
            "132/132 - 3s - loss: 0.1797 - accuracy: 0.9255 - val_loss: 0.5743 - val_accuracy: 0.8343\n"
          ]
        }
      ]
    },
    {
      "cell_type": "code",
      "metadata": {
        "colab": {
          "base_uri": "https://localhost:8080/"
        },
        "id": "wp_tR27lgQwn",
        "outputId": "0ea170a4-5043-4300-9ea1-ca38df4322c4"
      },
      "source": [
        "from keras.models import load_model \n",
        "saved_model = load_model('best_model.h5') \n",
        "test_acc = saved_model.evaluate(X1_test, Y1_test)"
      ],
      "execution_count": 20,
      "outputs": [
        {
          "output_type": "stream",
          "name": "stdout",
          "text": [
            "94/94 [==============================] - 1s 6ms/step - loss: 0.5236 - accuracy: 0.8023\n"
          ]
        }
      ]
    },
    {
      "cell_type": "code",
      "metadata": {
        "id": "3EADrgyus5uP",
        "colab": {
          "base_uri": "https://localhost:8080/"
        },
        "outputId": "d95b01ba-0ab6-4ec2-d0c9-99909f8dbcc8"
      },
      "source": [
        "predss = saved_model.predict (X2)\n",
        "predss\n"
      ],
      "execution_count": 21,
      "outputs": [
        {
          "output_type": "execute_result",
          "data": {
            "text/plain": [
              "array([[7.14444876e-01, 1.70747831e-01, 1.14807360e-01],\n",
              "       [8.02394688e-01, 1.25533953e-01, 7.20714480e-02],\n",
              "       [7.65526056e-01, 1.48241952e-01, 8.62319767e-02],\n",
              "       ...,\n",
              "       [1.83277787e-03, 7.41986965e-04, 9.97425318e-01],\n",
              "       [1.56949773e-01, 6.33616671e-02, 7.79688537e-01],\n",
              "       [3.28457390e-04, 1.05913095e-04, 9.99565661e-01]], dtype=float32)"
            ]
          },
          "metadata": {},
          "execution_count": 21
        }
      ]
    },
    {
      "cell_type": "code",
      "metadata": {
        "colab": {
          "base_uri": "https://localhost:8080/",
          "height": 419
        },
        "id": "vNge8E5ntIcI",
        "outputId": "485c0d8b-cc0b-40d1-91f8-cc6bbfbd937c"
      },
      "source": [
        "\n",
        "\n",
        "DFN = np.c_[X3, Y2, predss]\n",
        "\n",
        "dfz = pd.DataFrame (DFN)\n",
        "dfz"
      ],
      "execution_count": 22,
      "outputs": [
        {
          "output_type": "execute_result",
          "data": {
            "text/html": [
              "<div>\n",
              "<style scoped>\n",
              "    .dataframe tbody tr th:only-of-type {\n",
              "        vertical-align: middle;\n",
              "    }\n",
              "\n",
              "    .dataframe tbody tr th {\n",
              "        vertical-align: top;\n",
              "    }\n",
              "\n",
              "    .dataframe thead th {\n",
              "        text-align: right;\n",
              "    }\n",
              "</style>\n",
              "<table border=\"1\" class=\"dataframe\">\n",
              "  <thead>\n",
              "    <tr style=\"text-align: right;\">\n",
              "      <th></th>\n",
              "      <th>0</th>\n",
              "      <th>1</th>\n",
              "      <th>2</th>\n",
              "      <th>3</th>\n",
              "      <th>4</th>\n",
              "      <th>5</th>\n",
              "      <th>6</th>\n",
              "    </tr>\n",
              "  </thead>\n",
              "  <tbody>\n",
              "    <tr>\n",
              "      <th>0</th>\n",
              "      <td>cheetah fastest land animal can run 70 miles hour</td>\n",
              "      <td>1</td>\n",
              "      <td>0</td>\n",
              "      <td>0</td>\n",
              "      <td>0.714445</td>\n",
              "      <td>0.170748</td>\n",
              "      <td>0.114807</td>\n",
              "    </tr>\n",
              "    <tr>\n",
              "      <th>1</th>\n",
              "      <td>group of words which makes complete sense is c...</td>\n",
              "      <td>1</td>\n",
              "      <td>0</td>\n",
              "      <td>0</td>\n",
              "      <td>0.802395</td>\n",
              "      <td>0.125534</td>\n",
              "      <td>0.0720714</td>\n",
              "    </tr>\n",
              "    <tr>\n",
              "      <th>2</th>\n",
              "      <td>little hello and kiss from our son</td>\n",
              "      <td>1</td>\n",
              "      <td>0</td>\n",
              "      <td>0</td>\n",
              "      <td>0.765526</td>\n",
              "      <td>0.148242</td>\n",
              "      <td>0.086232</td>\n",
              "    </tr>\n",
              "    <tr>\n",
              "      <th>3</th>\n",
              "      <td>According to this article volcanoes in Auvergn...</td>\n",
              "      <td>1</td>\n",
              "      <td>0</td>\n",
              "      <td>0</td>\n",
              "      <td>0.283191</td>\n",
              "      <td>0.149766</td>\n",
              "      <td>0.567042</td>\n",
              "    </tr>\n",
              "    <tr>\n",
              "      <th>4</th>\n",
              "      <td>After long hot night we spent together I feel ...</td>\n",
              "      <td>1</td>\n",
              "      <td>0</td>\n",
              "      <td>0</td>\n",
              "      <td>0.786093</td>\n",
              "      <td>0.135585</td>\n",
              "      <td>0.0783221</td>\n",
              "    </tr>\n",
              "    <tr>\n",
              "      <th>...</th>\n",
              "      <td>...</td>\n",
              "      <td>...</td>\n",
              "      <td>...</td>\n",
              "      <td>...</td>\n",
              "      <td>...</td>\n",
              "      <td>...</td>\n",
              "      <td>...</td>\n",
              "    </tr>\n",
              "    <tr>\n",
              "      <th>988</th>\n",
              "      <td>I am only doing this for you</td>\n",
              "      <td>0</td>\n",
              "      <td>0</td>\n",
              "      <td>1</td>\n",
              "      <td>0.165847</td>\n",
              "      <td>0.0893435</td>\n",
              "      <td>0.74481</td>\n",
              "    </tr>\n",
              "    <tr>\n",
              "      <th>989</th>\n",
              "      <td>You should go out more</td>\n",
              "      <td>0</td>\n",
              "      <td>0</td>\n",
              "      <td>1</td>\n",
              "      <td>0.000341383</td>\n",
              "      <td>0.000124916</td>\n",
              "      <td>0.999534</td>\n",
              "    </tr>\n",
              "    <tr>\n",
              "      <th>990</th>\n",
              "      <td>You think you dont need anyone but in fact you...</td>\n",
              "      <td>0</td>\n",
              "      <td>0</td>\n",
              "      <td>1</td>\n",
              "      <td>0.00183278</td>\n",
              "      <td>0.000741987</td>\n",
              "      <td>0.997425</td>\n",
              "    </tr>\n",
              "    <tr>\n",
              "      <th>991</th>\n",
              "      <td>I love you as big as truck</td>\n",
              "      <td>1</td>\n",
              "      <td>0</td>\n",
              "      <td>0</td>\n",
              "      <td>0.15695</td>\n",
              "      <td>0.0633617</td>\n",
              "      <td>0.779689</td>\n",
              "    </tr>\n",
              "    <tr>\n",
              "      <th>992</th>\n",
              "      <td>Wow youre really annoying</td>\n",
              "      <td>0</td>\n",
              "      <td>0</td>\n",
              "      <td>1</td>\n",
              "      <td>0.000328457</td>\n",
              "      <td>0.000105913</td>\n",
              "      <td>0.999566</td>\n",
              "    </tr>\n",
              "  </tbody>\n",
              "</table>\n",
              "<p>993 rows × 7 columns</p>\n",
              "</div>"
            ],
            "text/plain": [
              "                                                     0  ...          6\n",
              "0    cheetah fastest land animal can run 70 miles hour  ...   0.114807\n",
              "1    group of words which makes complete sense is c...  ...  0.0720714\n",
              "2                   little hello and kiss from our son  ...   0.086232\n",
              "3    According to this article volcanoes in Auvergn...  ...   0.567042\n",
              "4    After long hot night we spent together I feel ...  ...  0.0783221\n",
              "..                                                 ...  ...        ...\n",
              "988                       I am only doing this for you  ...    0.74481\n",
              "989                             You should go out more  ...   0.999534\n",
              "990  You think you dont need anyone but in fact you...  ...   0.997425\n",
              "991                         I love you as big as truck  ...   0.779689\n",
              "992                          Wow youre really annoying  ...   0.999566\n",
              "\n",
              "[993 rows x 7 columns]"
            ]
          },
          "metadata": {},
          "execution_count": 22
        }
      ]
    },
    {
      "cell_type": "code",
      "metadata": {
        "id": "-s2DUT6mCihk"
      },
      "source": [
        "dfz.to_csv(r'/content/drive/MyDrive/final_table10.csv', index = False)"
      ],
      "execution_count": 23,
      "outputs": []
    }
  ]
}